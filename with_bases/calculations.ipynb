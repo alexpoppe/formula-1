{
 "cells": [
  {
   "cell_type": "code",
   "execution_count": 8,
   "metadata": {},
   "outputs": [
    {
     "data": {
      "text/html": [
       "<div>\n",
       "<style scoped>\n",
       "    .dataframe tbody tr th:only-of-type {\n",
       "        vertical-align: middle;\n",
       "    }\n",
       "\n",
       "    .dataframe tbody tr th {\n",
       "        vertical-align: top;\n",
       "    }\n",
       "\n",
       "    .dataframe thead th {\n",
       "        text-align: right;\n",
       "    }\n",
       "</style>\n",
       "<table border=\"1\" class=\"dataframe\">\n",
       "  <thead>\n",
       "    <tr style=\"text-align: right;\">\n",
       "      <th></th>\n",
       "      <th>Constructor</th>\n",
       "      <th>Country</th>\n",
       "      <th>City</th>\n",
       "      <th>latitude</th>\n",
       "      <th>longitude</th>\n",
       "    </tr>\n",
       "  </thead>\n",
       "  <tbody>\n",
       "    <tr>\n",
       "      <th>0</th>\n",
       "      <td>Mercedes</td>\n",
       "      <td>UK</td>\n",
       "      <td>Brackley</td>\n",
       "      <td>52.021871</td>\n",
       "      <td>-1.146569</td>\n",
       "    </tr>\n",
       "    <tr>\n",
       "      <th>1</th>\n",
       "      <td>Ferrari</td>\n",
       "      <td>Italy</td>\n",
       "      <td>Maranello</td>\n",
       "      <td>44.533788</td>\n",
       "      <td>10.864266</td>\n",
       "    </tr>\n",
       "    <tr>\n",
       "      <th>2</th>\n",
       "      <td>Red Bull</td>\n",
       "      <td>UK</td>\n",
       "      <td>Milton keynes</td>\n",
       "      <td>52.008382</td>\n",
       "      <td>-0.692814</td>\n",
       "    </tr>\n",
       "    <tr>\n",
       "      <th>3</th>\n",
       "      <td>McLaren</td>\n",
       "      <td>UK</td>\n",
       "      <td>Woking</td>\n",
       "      <td>51.346050</td>\n",
       "      <td>-0.548347</td>\n",
       "    </tr>\n",
       "    <tr>\n",
       "      <th>4</th>\n",
       "      <td>Aston Martin</td>\n",
       "      <td>UK</td>\n",
       "      <td>Silverstone</td>\n",
       "      <td>52.077981</td>\n",
       "      <td>-1.028656</td>\n",
       "    </tr>\n",
       "    <tr>\n",
       "      <th>5</th>\n",
       "      <td>Alpine</td>\n",
       "      <td>UK</td>\n",
       "      <td>Enstone</td>\n",
       "      <td>51.920414</td>\n",
       "      <td>-1.390781</td>\n",
       "    </tr>\n",
       "    <tr>\n",
       "      <th>6</th>\n",
       "      <td>Haas</td>\n",
       "      <td>UK</td>\n",
       "      <td>Banbury</td>\n",
       "      <td>52.065707</td>\n",
       "      <td>-1.314202</td>\n",
       "    </tr>\n",
       "    <tr>\n",
       "      <th>7</th>\n",
       "      <td>AlphaTauri</td>\n",
       "      <td>Italy</td>\n",
       "      <td>Faenza</td>\n",
       "      <td>44.308217</td>\n",
       "      <td>11.864016</td>\n",
       "    </tr>\n",
       "    <tr>\n",
       "      <th>8</th>\n",
       "      <td>Alfa Romeo</td>\n",
       "      <td>Switzerland</td>\n",
       "      <td>Hinwill</td>\n",
       "      <td>47.308791</td>\n",
       "      <td>8.817493</td>\n",
       "    </tr>\n",
       "    <tr>\n",
       "      <th>9</th>\n",
       "      <td>Williams</td>\n",
       "      <td>UK</td>\n",
       "      <td>Grove</td>\n",
       "      <td>51.618496</td>\n",
       "      <td>-1.411982</td>\n",
       "    </tr>\n",
       "  </tbody>\n",
       "</table>\n",
       "</div>"
      ],
      "text/plain": [
       "    Constructor      Country           City   latitude  longitude\n",
       "0      Mercedes           UK       Brackley  52.021871  -1.146569\n",
       "1       Ferrari        Italy      Maranello  44.533788  10.864266\n",
       "2      Red Bull           UK  Milton keynes  52.008382  -0.692814\n",
       "3       McLaren           UK         Woking  51.346050  -0.548347\n",
       "4  Aston Martin           UK    Silverstone  52.077981  -1.028656\n",
       "5        Alpine           UK        Enstone  51.920414  -1.390781\n",
       "6          Haas           UK        Banbury  52.065707  -1.314202\n",
       "7    AlphaTauri        Italy         Faenza  44.308217  11.864016\n",
       "8    Alfa Romeo  Switzerland        Hinwill  47.308791   8.817493\n",
       "9      Williams           UK          Grove  51.618496  -1.411982"
      ]
     },
     "execution_count": 8,
     "metadata": {},
     "output_type": "execute_result"
    }
   ],
   "source": [
    "from entities import Constructor, Race, Calendar\n",
    "import pandas as pd\n",
    "\n",
    "df = pd.read_csv('thuisbasis.csv')\n",
    "df\n"
   ]
  },
  {
   "cell_type": "code",
   "execution_count": 9,
   "metadata": {},
   "outputs": [],
   "source": [
    "AMERICA_BASE = (19.40593042607319,-99.09255011100402)\n",
    "ASIA_BASE = (40.4093,49.8671)\n",
    "constructors = []\n",
    "for index, row in df.iterrows():\n",
    "    bases = {'Europe': (row.latitude, row.longitude), 'America': AMERICA_BASE, 'Asia': ASIA_BASE}\n",
    "    \n",
    "    constructor = Constructor(row.Constructor, row.Country, row.City, bases)\n",
    "    constructors.append(constructor)"
   ]
  },
  {
   "cell_type": "code",
   "execution_count": 10,
   "metadata": {},
   "outputs": [
    {
     "data": {
      "text/plain": [
       "[Mercedes: UK, Brackley (None km),\n",
       " Ferrari: Italy, Maranello (None km),\n",
       " Red Bull: UK, Milton keynes (None km),\n",
       " McLaren: UK, Woking (None km),\n",
       " Aston Martin: UK, Silverstone (None km),\n",
       " Alpine: UK, Enstone (None km),\n",
       " Haas: UK, Banbury (None km),\n",
       " AlphaTauri: Italy, Faenza (None km),\n",
       " Alfa Romeo: Switzerland, Hinwill (None km),\n",
       " Williams: UK, Grove (None km)]"
      ]
     },
     "execution_count": 10,
     "metadata": {},
     "output_type": "execute_result"
    }
   ],
   "source": [
    "constructors"
   ]
  },
  {
   "cell_type": "code",
   "execution_count": 11,
   "metadata": {},
   "outputs": [
    {
     "data": {
      "text/plain": [
       "[Bahrain (Sakhir) -> Europe,\n",
       " Saudi Arabia (Jeddah) -> Europe,\n",
       " Australia (Melbourne) -> Europe,\n",
       " Azerbaijan (Baku) -> Europe,\n",
       " United States (Miami) -> America,\n",
       " Italy (emilia romagna) -> Europe,\n",
       " Monaco (Monte carlo) -> Europe,\n",
       " Spain (Barcelona) -> Europe,\n",
       " Canada (Montreal) -> America,\n",
       " Austria (Knittefeld) -> Europe,\n",
       " Great Britain (Silverstone) -> Europe,\n",
       " Hungary (Budapest) -> Europe,\n",
       " Belgium (Spa) -> Europe,\n",
       " Netherlands (Zandvoort) -> Europe,\n",
       " Italy (Monza) -> Europe,\n",
       " Singapore () -> Europe,\n",
       " Japan (Suzuka) -> Europe,\n",
       " Qatar (Lusail) -> Europe,\n",
       " United States (Austin) -> America,\n",
       " Mexico (Mexico City) -> America,\n",
       " Brazil (São Paulo) -> America,\n",
       " United States (Las Vegas) -> America,\n",
       " United Arab Emirates (Abu Dhabi) -> Europe]"
      ]
     },
     "execution_count": 11,
     "metadata": {},
     "output_type": "execute_result"
    }
   ],
   "source": [
    "with open('races2023.txt', 'r') as f:\n",
    "    lines = f.readlines()\n",
    "\n",
    "races = []\n",
    "for line in lines:\n",
    "    info = line.strip().split(',')\n",
    "    race = Race(info[0], info[1], info[2], info[3], info[4])\n",
    "    races.append(race)\n",
    "\n",
    "races"
   ]
  },
  {
   "cell_type": "code",
   "execution_count": 12,
   "metadata": {},
   "outputs": [
    {
     "data": {
      "text/plain": [
       "Calendar\n",
       "\t1. Bahrain (Sakhir) -> Europe\n",
       "\t2. Saudi Arabia (Jeddah) -> Europe\n",
       "\t3. Australia (Melbourne) -> Europe\n",
       "\t4. Azerbaijan (Baku) -> Europe\n",
       "\t5. United States (Miami) -> America\n",
       "\t6. Italy (emilia romagna) -> Europe\n",
       "\t7. Monaco (Monte carlo) -> Europe\n",
       "\t8. Spain (Barcelona) -> Europe\n",
       "\t9. Canada (Montreal) -> America\n",
       "\t10. Austria (Knittefeld) -> Europe\n",
       "\t11. Great Britain (Silverstone) -> Europe\n",
       "\t12. Hungary (Budapest) -> Europe\n",
       "\t13. Belgium (Spa) -> Europe\n",
       "\t14. Netherlands (Zandvoort) -> Europe\n",
       "\t15. Italy (Monza) -> Europe\n",
       "\t16. Singapore () -> Europe\n",
       "\t17. Japan (Suzuka) -> Europe\n",
       "\t18. Qatar (Lusail) -> Europe\n",
       "\t19. United States (Austin) -> America\n",
       "\t20. Mexico (Mexico City) -> America\n",
       "\t21. Brazil (São Paulo) -> America\n",
       "\t22. United States (Las Vegas) -> America\n",
       "\t23. United Arab Emirates (Abu Dhabi) -> Europe\n",
       "total distance: 1168633.3652293887 km\n",
       "\n",
       "Mercedes: UK, Brackley (119072.59511331898 km)\n",
       "Ferrari: Italy, Maranello (111544.57898400186 km)\n",
       "Red Bull: UK, Milton keynes (118854.58306199474 km)\n",
       "McLaren: UK, Woking (118588.23515621586 km)\n",
       "Aston Martin: UK, Silverstone (119033.73810971866 km)\n",
       "Alpine: UK, Enstone (119158.69969372578 km)\n",
       "Haas: UK, Banbury (119164.9955952279 km)\n",
       "AlphaTauri: Italy, Faenza (111115.47311454915 km)\n",
       "Alfa Romeo: Switzerland, Hinwill (113018.36690819898 km)\n",
       "Williams: UK, Grove (119082.09949243684 km)"
      ]
     },
     "execution_count": 12,
     "metadata": {},
     "output_type": "execute_result"
    }
   ],
   "source": [
    "calendar = Calendar(races, constructors)\n",
    "calendar"
   ]
  },
  {
   "cell_type": "code",
   "execution_count": 13,
   "metadata": {},
   "outputs": [
    {
     "data": {
      "text/plain": [
       "[21. Brazil (São Paulo) -> America,\n",
       " 5. United States (Miami) -> America,\n",
       " 19. United States (Austin) -> America,\n",
       " 20. Mexico (Mexico City) -> America,\n",
       " 22. United States (Las Vegas) -> America,\n",
       " 9. Canada (Montreal) -> America,\n",
       " 11. Great Britain (Silverstone) -> Europe,\n",
       " 14. Netherlands (Zandvoort) -> Europe,\n",
       " 13. Belgium (Spa) -> Europe,\n",
       " 15. Italy (Monza) -> Europe,\n",
       " 6. Italy (emilia romagna) -> Europe,\n",
       " 7. Monaco (Monte carlo) -> Europe,\n",
       " 8. Spain (Barcelona) -> Europe,\n",
       " 10. Austria (Knittefeld) -> Europe,\n",
       " 12. Hungary (Budapest) -> Europe,\n",
       " 4. Azerbaijan (Baku) -> Europe,\n",
       " 1. Bahrain (Sakhir) -> Europe,\n",
       " 18. Qatar (Lusail) -> Europe,\n",
       " 23. United Arab Emirates (Abu Dhabi) -> Europe,\n",
       " 2. Saudi Arabia (Jeddah) -> Europe,\n",
       " 16. Singapore () -> Europe,\n",
       " 17. Japan (Suzuka) -> Europe,\n",
       " 3. Australia (Melbourne) -> Europe]"
      ]
     },
     "execution_count": 13,
     "metadata": {},
     "output_type": "execute_result"
    }
   ],
   "source": [
    "PERFECT_INDEXES = [21, 5, 19, 20, 22, 9, 11, 14, 13, 15, 6, 7, 8, 10, 12, 4, 1, 18, 23, 2, 16, 17, 3]\n",
    "calendar.reorganise_races(PERFECT_INDEXES)"
   ]
  },
  {
   "cell_type": "code",
   "execution_count": 14,
   "metadata": {},
   "outputs": [
    {
     "data": {
      "text/plain": [
       "Calendar\n",
       "\t21. Brazil (São Paulo) -> America\n",
       "\t5. United States (Miami) -> America\n",
       "\t19. United States (Austin) -> America\n",
       "\t20. Mexico (Mexico City) -> America\n",
       "\t22. United States (Las Vegas) -> America\n",
       "\t9. Canada (Montreal) -> America\n",
       "\t11. Great Britain (Silverstone) -> Europe\n",
       "\t14. Netherlands (Zandvoort) -> Europe\n",
       "\t13. Belgium (Spa) -> Europe\n",
       "\t15. Italy (Monza) -> Europe\n",
       "\t6. Italy (emilia romagna) -> Europe\n",
       "\t7. Monaco (Monte carlo) -> Europe\n",
       "\t8. Spain (Barcelona) -> Europe\n",
       "\t10. Austria (Knittefeld) -> Europe\n",
       "\t12. Hungary (Budapest) -> Europe\n",
       "\t4. Azerbaijan (Baku) -> Europe\n",
       "\t1. Bahrain (Sakhir) -> Europe\n",
       "\t18. Qatar (Lusail) -> Europe\n",
       "\t23. United Arab Emirates (Abu Dhabi) -> Europe\n",
       "\t2. Saudi Arabia (Jeddah) -> Europe\n",
       "\t16. Singapore () -> Europe\n",
       "\t17. Japan (Suzuka) -> Europe\n",
       "\t3. Australia (Melbourne) -> Europe\n",
       "total distance: 743714.473421461 km\n",
       "\n",
       "Mercedes: UK, Brackley (74251.14093909452 km)\n",
       "Ferrari: Italy, Maranello (74654.89326239034 km)\n",
       "Red Bull: UK, Milton keynes (74234.50654595906 km)\n",
       "McLaren: UK, Woking (74310.07594777548 km)\n",
       "Aston Martin: UK, Silverstone (74231.65690054071 km)\n",
       "Alpine: UK, Enstone (74290.81319434781 km)\n",
       "Haas: UK, Banbury (74270.27118474548 km)\n",
       "AlphaTauri: Italy, Faenza (74645.67366215253 km)\n",
       "Alfa Romeo: Switzerland, Hinwill (74496.27904259553 km)\n",
       "Williams: UK, Grove (74329.16274185957 km)"
      ]
     },
     "execution_count": 14,
     "metadata": {},
     "output_type": "execute_result"
    }
   ],
   "source": [
    "calendar"
   ]
  },
  {
   "cell_type": "code",
   "execution_count": 13,
   "metadata": {},
   "outputs": [],
   "source": [
    "with open('optimal_calendar2023.txt', 'w') as f:\n",
    "    f.write(str(calendar))"
   ]
  },
  {
   "cell_type": "code",
   "execution_count": 15,
   "metadata": {},
   "outputs": [
    {
     "data": {
      "text/plain": [
       "[Bahrain (Sakhir) -> Asia,\n",
       " Saudi Arabia (Jeddah) -> Asia,\n",
       " Australia (Melbourne) -> Asia,\n",
       " Azerbaijan (Baku) -> Asia,\n",
       " United States (Miami) -> America,\n",
       " Italy (emilia romagna) -> Europe,\n",
       " Monaco (Monte carlo) -> Europe,\n",
       " Spain (Barcelona) -> Europe,\n",
       " Canada (Montreal) -> America,\n",
       " Austria (Knittefeld) -> Europe,\n",
       " Great Britain (Silverstone) -> Europe,\n",
       " Hungary (Budapest) -> Europe,\n",
       " Belgium (Spa) -> Europe,\n",
       " Netherlands (Zandvoort) -> Europe,\n",
       " Italy (Monza) -> Europe,\n",
       " Singapore () -> Asia,\n",
       " Japan (Suzuka) -> Asia,\n",
       " Qatar (Lusail) -> Asia,\n",
       " United States (Austin) -> America,\n",
       " Mexico (Mexico City) -> America,\n",
       " Brazil (SÃƒÆ’Ã‚Â£o Paulo) -> America,\n",
       " United States (Las Vegas) -> America,\n",
       " United Arab Emirates (Abu Dhabi) -> Asia]"
      ]
     },
     "execution_count": 15,
     "metadata": {},
     "output_type": "execute_result"
    }
   ],
   "source": [
    "with open('races2023_3bases.txt', 'r') as f:\n",
    "    lines = f.readlines()\n",
    "\n",
    "races = []\n",
    "for line in lines:\n",
    "    info = line.strip().split(',')\n",
    "    race = Race(info[0], info[1], info[2], info[3], info[4])\n",
    "    races.append(race)\n",
    "\n",
    "races"
   ]
  },
  {
   "cell_type": "code",
   "execution_count": 16,
   "metadata": {},
   "outputs": [
    {
     "data": {
      "text/plain": [
       "Calendar\n",
       "\t1. Bahrain (Sakhir) -> Asia\n",
       "\t2. Saudi Arabia (Jeddah) -> Asia\n",
       "\t3. Australia (Melbourne) -> Asia\n",
       "\t4. Azerbaijan (Baku) -> Asia\n",
       "\t5. United States (Miami) -> America\n",
       "\t6. Italy (emilia romagna) -> Europe\n",
       "\t7. Monaco (Monte carlo) -> Europe\n",
       "\t8. Spain (Barcelona) -> Europe\n",
       "\t9. Canada (Montreal) -> America\n",
       "\t10. Austria (Knittefeld) -> Europe\n",
       "\t11. Great Britain (Silverstone) -> Europe\n",
       "\t12. Hungary (Budapest) -> Europe\n",
       "\t13. Belgium (Spa) -> Europe\n",
       "\t14. Netherlands (Zandvoort) -> Europe\n",
       "\t15. Italy (Monza) -> Europe\n",
       "\t16. Singapore () -> Asia\n",
       "\t17. Japan (Suzuka) -> Asia\n",
       "\t18. Qatar (Lusail) -> Asia\n",
       "\t19. United States (Austin) -> America\n",
       "\t20. Mexico (Mexico City) -> America\n",
       "\t21. Brazil (SÃƒÆ’Ã‚Â£o Paulo) -> America\n",
       "\t22. United States (Las Vegas) -> America\n",
       "\t23. United Arab Emirates (Abu Dhabi) -> Asia\n",
       "total distance: 970609.3604086584 km\n",
       "\n",
       "Mercedes: UK, Brackley (98044.11351899212 km)\n",
       "Ferrari: Italy, Maranello (94742.4682871466 km)\n",
       "Red Bull: UK, Milton keynes (97955.26757884896 km)\n",
       "McLaren: UK, Woking (97743.76675096495 km)\n",
       "Aston Martin: UK, Silverstone (98037.60599198363 km)\n",
       "Alpine: UK, Enstone (98062.8416702447 km)\n",
       "Haas: UK, Banbury (98088.15605522135 km)\n",
       "AlphaTauri: Italy, Faenza (94801.41294410545 km)\n",
       "Alfa Romeo: Switzerland, Hinwill (95148.09600166237 km)\n",
       "Williams: UK, Grove (97985.63160948825 km)"
      ]
     },
     "execution_count": 16,
     "metadata": {},
     "output_type": "execute_result"
    }
   ],
   "source": [
    "calendar = Calendar(races, constructors)\n",
    "calendar"
   ]
  },
  {
   "cell_type": "code",
   "execution_count": 17,
   "metadata": {},
   "outputs": [
    {
     "data": {
      "text/plain": [
       "[21. Brazil (SÃƒÆ’Ã‚Â£o Paulo) -> America,\n",
       " 5. United States (Miami) -> America,\n",
       " 19. United States (Austin) -> America,\n",
       " 20. Mexico (Mexico City) -> America,\n",
       " 22. United States (Las Vegas) -> America,\n",
       " 9. Canada (Montreal) -> America,\n",
       " 11. Great Britain (Silverstone) -> Europe,\n",
       " 14. Netherlands (Zandvoort) -> Europe,\n",
       " 13. Belgium (Spa) -> Europe,\n",
       " 15. Italy (Monza) -> Europe,\n",
       " 6. Italy (emilia romagna) -> Europe,\n",
       " 7. Monaco (Monte carlo) -> Europe,\n",
       " 8. Spain (Barcelona) -> Europe,\n",
       " 10. Austria (Knittefeld) -> Europe,\n",
       " 12. Hungary (Budapest) -> Europe,\n",
       " 4. Azerbaijan (Baku) -> Asia,\n",
       " 1. Bahrain (Sakhir) -> Asia,\n",
       " 18. Qatar (Lusail) -> Asia,\n",
       " 23. United Arab Emirates (Abu Dhabi) -> Asia,\n",
       " 2. Saudi Arabia (Jeddah) -> Asia,\n",
       " 16. Singapore () -> Asia,\n",
       " 17. Japan (Suzuka) -> Asia,\n",
       " 3. Australia (Melbourne) -> Asia]"
      ]
     },
     "execution_count": 17,
     "metadata": {},
     "output_type": "execute_result"
    }
   ],
   "source": [
    "PERFECT_INDEXES = [21, 5, 19, 20, 22, 9, 11, 14, 13, 15, 6, 7, 8, 10, 12, 4, 1, 18, 23, 2, 16, 17, 3]\n",
    "calendar.reorganise_races(PERFECT_INDEXES)"
   ]
  },
  {
   "cell_type": "code",
   "execution_count": 18,
   "metadata": {},
   "outputs": [
    {
     "data": {
      "text/plain": [
       "Calendar\n",
       "\t21. Brazil (SÃƒÆ’Ã‚Â£o Paulo) -> America\n",
       "\t5. United States (Miami) -> America\n",
       "\t19. United States (Austin) -> America\n",
       "\t20. Mexico (Mexico City) -> America\n",
       "\t22. United States (Las Vegas) -> America\n",
       "\t9. Canada (Montreal) -> America\n",
       "\t11. Great Britain (Silverstone) -> Europe\n",
       "\t14. Netherlands (Zandvoort) -> Europe\n",
       "\t13. Belgium (Spa) -> Europe\n",
       "\t15. Italy (Monza) -> Europe\n",
       "\t6. Italy (emilia romagna) -> Europe\n",
       "\t7. Monaco (Monte carlo) -> Europe\n",
       "\t8. Spain (Barcelona) -> Europe\n",
       "\t10. Austria (Knittefeld) -> Europe\n",
       "\t12. Hungary (Budapest) -> Europe\n",
       "\t4. Azerbaijan (Baku) -> Asia\n",
       "\t1. Bahrain (Sakhir) -> Asia\n",
       "\t18. Qatar (Lusail) -> Asia\n",
       "\t23. United Arab Emirates (Abu Dhabi) -> Asia\n",
       "\t2. Saudi Arabia (Jeddah) -> Asia\n",
       "\t16. Singapore () -> Asia\n",
       "\t17. Japan (Suzuka) -> Asia\n",
       "\t3. Australia (Melbourne) -> Asia\n",
       "total distance: 693582.7684607265 km\n",
       "\n",
       "Mercedes: UK, Brackley (69256.03167369797 km)\n",
       "Ferrari: Italy, Maranello (69647.69473486752 km)\n",
       "Red Bull: UK, Milton keynes (69237.74981702057 km)\n",
       "McLaren: UK, Woking (69279.32382902263 km)\n",
       "Aston Martin: UK, Silverstone (69239.38132752338 km)\n",
       "Alpine: UK, Enstone (69290.77324934589 km)\n",
       "Haas: UK, Banbury (69277.93777967527 km)\n",
       "AlphaTauri: Italy, Faenza (69666.74609137658 km)\n",
       "Alfa Romeo: Switzerland, Hinwill (69373.59410777551 km)\n",
       "Williams: UK, Grove (69313.53585042115 km)"
      ]
     },
     "execution_count": 18,
     "metadata": {},
     "output_type": "execute_result"
    }
   ],
   "source": [
    "calendar"
   ]
  },
  {
   "cell_type": "code",
   "execution_count": 19,
   "metadata": {},
   "outputs": [],
   "source": [
    "with open('optimal_calendar2023.txt', 'w') as f:\n",
    "    f.write(str(calendar))"
   ]
  }
 ],
 "metadata": {
  "kernelspec": {
   "display_name": "test",
   "language": "python",
   "name": "python3"
  },
  "language_info": {
   "codemirror_mode": {
    "name": "ipython",
    "version": 3
   },
   "file_extension": ".py",
   "mimetype": "text/x-python",
   "name": "python",
   "nbconvert_exporter": "python",
   "pygments_lexer": "ipython3",
   "version": "3.11.4"
  },
  "orig_nbformat": 4
 },
 "nbformat": 4,
 "nbformat_minor": 2
}
